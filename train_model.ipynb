{
 "cells": [
  {
   "cell_type": "code",
   "execution_count": 1,
   "id": "a3082f31-0615-48df-967b-3305f503dffe",
   "metadata": {},
   "outputs": [],
   "source": [
    "import numpy as np\n",
    "import pandas as pd\n",
    "from sklearn.preprocessing import LabelEncoder\n",
    "from sklearn.model_selection import train_test_split\n",
    "from transformers import BertTokenizer, TFBertModel\n",
    "import tensorflow as tf\n",
    "from tensorflow.keras.callbacks import EarlyStopping\n",
    "from tensorflow.keras.metrics import Accuracy\n",
    "from tensorflow.keras.models import Model\n",
    "from tensorflow.keras.layers import Input, Dense, Dropout"
   ]
  },
  {
   "cell_type": "markdown",
   "id": "d0225897-fc06-422c-a9a5-dd61c9eecf91",
   "metadata": {},
   "source": [
    "# Предобработка, токенизация и паддинг"
   ]
  },
  {
   "cell_type": "code",
   "execution_count": 2,
   "id": "2ec5c8ee-37ad-47d1-b8f3-4db692a13d0d",
   "metadata": {
    "scrolled": true
   },
   "outputs": [
    {
     "data": {
      "text/html": [
       "<div>\n",
       "<style scoped>\n",
       "    .dataframe tbody tr th:only-of-type {\n",
       "        vertical-align: middle;\n",
       "    }\n",
       "\n",
       "    .dataframe tbody tr th {\n",
       "        vertical-align: top;\n",
       "    }\n",
       "\n",
       "    .dataframe thead th {\n",
       "        text-align: right;\n",
       "    }\n",
       "</style>\n",
       "<table border=\"1\" class=\"dataframe\">\n",
       "  <thead>\n",
       "    <tr style=\"text-align: right;\">\n",
       "      <th></th>\n",
       "      <th>Sentence #</th>\n",
       "      <th>Word</th>\n",
       "      <th>POS</th>\n",
       "      <th>Tag</th>\n",
       "    </tr>\n",
       "  </thead>\n",
       "  <tbody>\n",
       "    <tr>\n",
       "      <th>0</th>\n",
       "      <td>Sentence: 1</td>\n",
       "      <td>Thousands</td>\n",
       "      <td>NNS</td>\n",
       "      <td>O</td>\n",
       "    </tr>\n",
       "    <tr>\n",
       "      <th>1</th>\n",
       "      <td>NaN</td>\n",
       "      <td>of</td>\n",
       "      <td>IN</td>\n",
       "      <td>O</td>\n",
       "    </tr>\n",
       "    <tr>\n",
       "      <th>2</th>\n",
       "      <td>NaN</td>\n",
       "      <td>demonstrators</td>\n",
       "      <td>NNS</td>\n",
       "      <td>O</td>\n",
       "    </tr>\n",
       "    <tr>\n",
       "      <th>3</th>\n",
       "      <td>NaN</td>\n",
       "      <td>have</td>\n",
       "      <td>VBP</td>\n",
       "      <td>O</td>\n",
       "    </tr>\n",
       "    <tr>\n",
       "      <th>4</th>\n",
       "      <td>NaN</td>\n",
       "      <td>marched</td>\n",
       "      <td>VBN</td>\n",
       "      <td>O</td>\n",
       "    </tr>\n",
       "  </tbody>\n",
       "</table>\n",
       "</div>"
      ],
      "text/plain": [
       "    Sentence #           Word  POS Tag\n",
       "0  Sentence: 1      Thousands  NNS   O\n",
       "1          NaN             of   IN   O\n",
       "2          NaN  demonstrators  NNS   O\n",
       "3          NaN           have  VBP   O\n",
       "4          NaN        marched  VBN   O"
      ]
     },
     "execution_count": 2,
     "metadata": {},
     "output_type": "execute_result"
    }
   ],
   "source": [
    "df = pd.read_csv(\"ner_datasetreference.csv\", encoding=\"latin1\")\n",
    "df.head()"
   ]
  },
  {
   "cell_type": "code",
   "execution_count": 3,
   "id": "f920be91-33a9-4035-83fd-a19e0c7cceac",
   "metadata": {},
   "outputs": [
    {
     "data": {
      "text/plain": [
       "Sentence #    1000616\n",
       "Word               10\n",
       "POS                 0\n",
       "Tag                 0\n",
       "dtype: int64"
      ]
     },
     "execution_count": 3,
     "metadata": {},
     "output_type": "execute_result"
    }
   ],
   "source": [
    "df.isna().sum()"
   ]
  },
  {
   "cell_type": "code",
   "execution_count": 4,
   "id": "4c220706-c0d3-4431-a5ce-fd7c618f4d21",
   "metadata": {},
   "outputs": [],
   "source": [
    "df.Word.dropna(inplace=True)"
   ]
  },
  {
   "cell_type": "code",
   "execution_count": 5,
   "id": "fccd8cb4-9070-4ead-be18-65bfd0bea84e",
   "metadata": {},
   "outputs": [
    {
     "data": {
      "text/plain": [
       "17"
      ]
     },
     "execution_count": 5,
     "metadata": {},
     "output_type": "execute_result"
    }
   ],
   "source": [
    "num_classes = df.Tag.nunique()\n",
    "num_classes"
   ]
  },
  {
   "cell_type": "code",
   "execution_count": 6,
   "id": "f3c82c5b-d95d-4ae7-b14b-edde0d364599",
   "metadata": {
    "scrolled": true
   },
   "outputs": [
    {
     "data": {
      "text/html": [
       "<div>\n",
       "<style scoped>\n",
       "    .dataframe tbody tr th:only-of-type {\n",
       "        vertical-align: middle;\n",
       "    }\n",
       "\n",
       "    .dataframe tbody tr th {\n",
       "        vertical-align: top;\n",
       "    }\n",
       "\n",
       "    .dataframe thead th {\n",
       "        text-align: right;\n",
       "    }\n",
       "</style>\n",
       "<table border=\"1\" class=\"dataframe\">\n",
       "  <thead>\n",
       "    <tr style=\"text-align: right;\">\n",
       "      <th></th>\n",
       "      <th>Sentence #</th>\n",
       "      <th>Word</th>\n",
       "      <th>POS</th>\n",
       "      <th>Tag</th>\n",
       "    </tr>\n",
       "  </thead>\n",
       "  <tbody>\n",
       "    <tr>\n",
       "      <th>0</th>\n",
       "      <td>Sentence: 1</td>\n",
       "      <td>Thousands</td>\n",
       "      <td>NNS</td>\n",
       "      <td>O</td>\n",
       "    </tr>\n",
       "    <tr>\n",
       "      <th>1</th>\n",
       "      <td>Sentence: 1</td>\n",
       "      <td>of</td>\n",
       "      <td>IN</td>\n",
       "      <td>O</td>\n",
       "    </tr>\n",
       "    <tr>\n",
       "      <th>2</th>\n",
       "      <td>Sentence: 1</td>\n",
       "      <td>demonstrators</td>\n",
       "      <td>NNS</td>\n",
       "      <td>O</td>\n",
       "    </tr>\n",
       "    <tr>\n",
       "      <th>3</th>\n",
       "      <td>Sentence: 1</td>\n",
       "      <td>have</td>\n",
       "      <td>VBP</td>\n",
       "      <td>O</td>\n",
       "    </tr>\n",
       "    <tr>\n",
       "      <th>4</th>\n",
       "      <td>Sentence: 1</td>\n",
       "      <td>marched</td>\n",
       "      <td>VBN</td>\n",
       "      <td>O</td>\n",
       "    </tr>\n",
       "    <tr>\n",
       "      <th>...</th>\n",
       "      <td>...</td>\n",
       "      <td>...</td>\n",
       "      <td>...</td>\n",
       "      <td>...</td>\n",
       "    </tr>\n",
       "    <tr>\n",
       "      <th>1048570</th>\n",
       "      <td>Sentence: 47959</td>\n",
       "      <td>they</td>\n",
       "      <td>PRP</td>\n",
       "      <td>O</td>\n",
       "    </tr>\n",
       "    <tr>\n",
       "      <th>1048571</th>\n",
       "      <td>Sentence: 47959</td>\n",
       "      <td>responded</td>\n",
       "      <td>VBD</td>\n",
       "      <td>O</td>\n",
       "    </tr>\n",
       "    <tr>\n",
       "      <th>1048572</th>\n",
       "      <td>Sentence: 47959</td>\n",
       "      <td>to</td>\n",
       "      <td>TO</td>\n",
       "      <td>O</td>\n",
       "    </tr>\n",
       "    <tr>\n",
       "      <th>1048573</th>\n",
       "      <td>Sentence: 47959</td>\n",
       "      <td>the</td>\n",
       "      <td>DT</td>\n",
       "      <td>O</td>\n",
       "    </tr>\n",
       "    <tr>\n",
       "      <th>1048574</th>\n",
       "      <td>Sentence: 47959</td>\n",
       "      <td>attack</td>\n",
       "      <td>NN</td>\n",
       "      <td>O</td>\n",
       "    </tr>\n",
       "  </tbody>\n",
       "</table>\n",
       "<p>1048575 rows × 4 columns</p>\n",
       "</div>"
      ],
      "text/plain": [
       "              Sentence #           Word  POS Tag\n",
       "0            Sentence: 1      Thousands  NNS   O\n",
       "1            Sentence: 1             of   IN   O\n",
       "2            Sentence: 1  demonstrators  NNS   O\n",
       "3            Sentence: 1           have  VBP   O\n",
       "4            Sentence: 1        marched  VBN   O\n",
       "...                  ...            ...  ...  ..\n",
       "1048570  Sentence: 47959           they  PRP   O\n",
       "1048571  Sentence: 47959      responded  VBD   O\n",
       "1048572  Sentence: 47959             to   TO   O\n",
       "1048573  Sentence: 47959            the   DT   O\n",
       "1048574  Sentence: 47959         attack   NN   O\n",
       "\n",
       "[1048575 rows x 4 columns]"
      ]
     },
     "execution_count": 6,
     "metadata": {},
     "output_type": "execute_result"
    }
   ],
   "source": [
    "df = df.ffill()\n",
    "df"
   ]
  },
  {
   "cell_type": "code",
   "execution_count": 7,
   "id": "5a43eb72-3b4f-43d1-ae42-3061fc9d201c",
   "metadata": {
    "scrolled": true
   },
   "outputs": [
    {
     "data": {
      "text/html": [
       "<div>\n",
       "<style scoped>\n",
       "    .dataframe tbody tr th:only-of-type {\n",
       "        vertical-align: middle;\n",
       "    }\n",
       "\n",
       "    .dataframe tbody tr th {\n",
       "        vertical-align: top;\n",
       "    }\n",
       "\n",
       "    .dataframe thead th {\n",
       "        text-align: right;\n",
       "    }\n",
       "</style>\n",
       "<table border=\"1\" class=\"dataframe\">\n",
       "  <thead>\n",
       "    <tr style=\"text-align: right;\">\n",
       "      <th></th>\n",
       "      <th>Sentence #</th>\n",
       "      <th>Word</th>\n",
       "      <th>POS</th>\n",
       "      <th>Tag</th>\n",
       "    </tr>\n",
       "  </thead>\n",
       "  <tbody>\n",
       "    <tr>\n",
       "      <th>0</th>\n",
       "      <td>Sentence: 1</td>\n",
       "      <td>Thousands</td>\n",
       "      <td>NNS</td>\n",
       "      <td>16</td>\n",
       "    </tr>\n",
       "    <tr>\n",
       "      <th>1</th>\n",
       "      <td>Sentence: 1</td>\n",
       "      <td>of</td>\n",
       "      <td>IN</td>\n",
       "      <td>16</td>\n",
       "    </tr>\n",
       "    <tr>\n",
       "      <th>2</th>\n",
       "      <td>Sentence: 1</td>\n",
       "      <td>demonstrators</td>\n",
       "      <td>NNS</td>\n",
       "      <td>16</td>\n",
       "    </tr>\n",
       "    <tr>\n",
       "      <th>3</th>\n",
       "      <td>Sentence: 1</td>\n",
       "      <td>have</td>\n",
       "      <td>VBP</td>\n",
       "      <td>16</td>\n",
       "    </tr>\n",
       "    <tr>\n",
       "      <th>4</th>\n",
       "      <td>Sentence: 1</td>\n",
       "      <td>marched</td>\n",
       "      <td>VBN</td>\n",
       "      <td>16</td>\n",
       "    </tr>\n",
       "    <tr>\n",
       "      <th>...</th>\n",
       "      <td>...</td>\n",
       "      <td>...</td>\n",
       "      <td>...</td>\n",
       "      <td>...</td>\n",
       "    </tr>\n",
       "    <tr>\n",
       "      <th>1048570</th>\n",
       "      <td>Sentence: 47959</td>\n",
       "      <td>they</td>\n",
       "      <td>PRP</td>\n",
       "      <td>16</td>\n",
       "    </tr>\n",
       "    <tr>\n",
       "      <th>1048571</th>\n",
       "      <td>Sentence: 47959</td>\n",
       "      <td>responded</td>\n",
       "      <td>VBD</td>\n",
       "      <td>16</td>\n",
       "    </tr>\n",
       "    <tr>\n",
       "      <th>1048572</th>\n",
       "      <td>Sentence: 47959</td>\n",
       "      <td>to</td>\n",
       "      <td>TO</td>\n",
       "      <td>16</td>\n",
       "    </tr>\n",
       "    <tr>\n",
       "      <th>1048573</th>\n",
       "      <td>Sentence: 47959</td>\n",
       "      <td>the</td>\n",
       "      <td>DT</td>\n",
       "      <td>16</td>\n",
       "    </tr>\n",
       "    <tr>\n",
       "      <th>1048574</th>\n",
       "      <td>Sentence: 47959</td>\n",
       "      <td>attack</td>\n",
       "      <td>NN</td>\n",
       "      <td>16</td>\n",
       "    </tr>\n",
       "  </tbody>\n",
       "</table>\n",
       "<p>1048575 rows × 4 columns</p>\n",
       "</div>"
      ],
      "text/plain": [
       "              Sentence #           Word  POS  Tag\n",
       "0            Sentence: 1      Thousands  NNS   16\n",
       "1            Sentence: 1             of   IN   16\n",
       "2            Sentence: 1  demonstrators  NNS   16\n",
       "3            Sentence: 1           have  VBP   16\n",
       "4            Sentence: 1        marched  VBN   16\n",
       "...                  ...            ...  ...  ...\n",
       "1048570  Sentence: 47959           they  PRP   16\n",
       "1048571  Sentence: 47959      responded  VBD   16\n",
       "1048572  Sentence: 47959             to   TO   16\n",
       "1048573  Sentence: 47959            the   DT   16\n",
       "1048574  Sentence: 47959         attack   NN   16\n",
       "\n",
       "[1048575 rows x 4 columns]"
      ]
     },
     "execution_count": 7,
     "metadata": {},
     "output_type": "execute_result"
    }
   ],
   "source": [
    "df.Tag = LabelEncoder().fit_transform(df.Tag)\n",
    "df"
   ]
  },
  {
   "cell_type": "code",
   "execution_count": 8,
   "id": "7cdd9b7b-515f-413e-a5f8-91eee5d975e9",
   "metadata": {},
   "outputs": [],
   "source": [
    "O_tag = df.Tag[0]"
   ]
  },
  {
   "cell_type": "code",
   "execution_count": 9,
   "id": "95cd7d59-952b-4191-b2de-b87919c4e5fe",
   "metadata": {},
   "outputs": [
    {
     "data": {
      "text/html": [
       "<div>\n",
       "<style scoped>\n",
       "    .dataframe tbody tr th:only-of-type {\n",
       "        vertical-align: middle;\n",
       "    }\n",
       "\n",
       "    .dataframe tbody tr th {\n",
       "        vertical-align: top;\n",
       "    }\n",
       "\n",
       "    .dataframe thead th {\n",
       "        text-align: right;\n",
       "    }\n",
       "</style>\n",
       "<table border=\"1\" class=\"dataframe\">\n",
       "  <thead>\n",
       "    <tr style=\"text-align: right;\">\n",
       "      <th></th>\n",
       "      <th>Word</th>\n",
       "      <th>Tag</th>\n",
       "    </tr>\n",
       "  </thead>\n",
       "  <tbody>\n",
       "    <tr>\n",
       "      <th>0</th>\n",
       "      <td>[Thousands, of, demonstrators, have, marched, ...</td>\n",
       "      <td>[16, 16, 16, 16, 16, 16, 2, 16, 16, 16, 16, 16...</td>\n",
       "    </tr>\n",
       "    <tr>\n",
       "      <th>1</th>\n",
       "      <td>[Iranian, officials, say, they, expect, to, ge...</td>\n",
       "      <td>[3, 16, 16, 16, 16, 16, 16, 16, 16, 16, 16, 16...</td>\n",
       "    </tr>\n",
       "    <tr>\n",
       "      <th>2</th>\n",
       "      <td>[Helicopter, gunships, Saturday, pounded, mili...</td>\n",
       "      <td>[16, 16, 7, 16, 16, 16, 16, 16, 2, 16, 16, 16,...</td>\n",
       "    </tr>\n",
       "    <tr>\n",
       "      <th>3</th>\n",
       "      <td>[They, left, after, a, tense, hour-long, stand...</td>\n",
       "      <td>[16, 16, 16, 16, 16, 16, 16, 16, 16, 16, 16]</td>\n",
       "    </tr>\n",
       "    <tr>\n",
       "      <th>4</th>\n",
       "      <td>[U.N., relief, coordinator, Jan, Egeland, said...</td>\n",
       "      <td>[2, 16, 16, 6, 14, 16, 7, 16, 2, 16, 3, 16, 3,...</td>\n",
       "    </tr>\n",
       "    <tr>\n",
       "      <th>...</th>\n",
       "      <td>...</td>\n",
       "      <td>...</td>\n",
       "    </tr>\n",
       "    <tr>\n",
       "      <th>47954</th>\n",
       "      <td>[Opposition, leader, Mir, Hossein, Mousavi, ha...</td>\n",
       "      <td>[16, 16, 16, 6, 14, 16, 16, 16, 16, 16, 16, 16...</td>\n",
       "    </tr>\n",
       "    <tr>\n",
       "      <th>47955</th>\n",
       "      <td>[On, Thursday, ,, Iranian, state, media, publi...</td>\n",
       "      <td>[16, 7, 16, 3, 16, 16, 16, 16, 16, 16, 16, 16,...</td>\n",
       "    </tr>\n",
       "    <tr>\n",
       "      <th>47956</th>\n",
       "      <td>[Following, Iran, 's, disputed, June, 12, elec...</td>\n",
       "      <td>[16, 2, 16, 16, 7, 15, 16, 16, 16, 16, 16, 16,...</td>\n",
       "    </tr>\n",
       "    <tr>\n",
       "      <th>47957</th>\n",
       "      <td>[Since, then, ,, authorities, have, held, publ...</td>\n",
       "      <td>[16, 16, 16, 16, 16, 16, 16, 16, 16, 16, 16, 1...</td>\n",
       "    </tr>\n",
       "    <tr>\n",
       "      <th>47958</th>\n",
       "      <td>[The, United, Nations, is, praising, the, use,...</td>\n",
       "      <td>[16, 5, 13, 16, 16, 16, 16, 16, 16, 16, 16, 16...</td>\n",
       "    </tr>\n",
       "  </tbody>\n",
       "</table>\n",
       "<p>47959 rows × 2 columns</p>\n",
       "</div>"
      ],
      "text/plain": [
       "                                                    Word  \\\n",
       "0      [Thousands, of, demonstrators, have, marched, ...   \n",
       "1      [Iranian, officials, say, they, expect, to, ge...   \n",
       "2      [Helicopter, gunships, Saturday, pounded, mili...   \n",
       "3      [They, left, after, a, tense, hour-long, stand...   \n",
       "4      [U.N., relief, coordinator, Jan, Egeland, said...   \n",
       "...                                                  ...   \n",
       "47954  [Opposition, leader, Mir, Hossein, Mousavi, ha...   \n",
       "47955  [On, Thursday, ,, Iranian, state, media, publi...   \n",
       "47956  [Following, Iran, 's, disputed, June, 12, elec...   \n",
       "47957  [Since, then, ,, authorities, have, held, publ...   \n",
       "47958  [The, United, Nations, is, praising, the, use,...   \n",
       "\n",
       "                                                     Tag  \n",
       "0      [16, 16, 16, 16, 16, 16, 2, 16, 16, 16, 16, 16...  \n",
       "1      [3, 16, 16, 16, 16, 16, 16, 16, 16, 16, 16, 16...  \n",
       "2      [16, 16, 7, 16, 16, 16, 16, 16, 2, 16, 16, 16,...  \n",
       "3           [16, 16, 16, 16, 16, 16, 16, 16, 16, 16, 16]  \n",
       "4      [2, 16, 16, 6, 14, 16, 7, 16, 2, 16, 3, 16, 3,...  \n",
       "...                                                  ...  \n",
       "47954  [16, 16, 16, 6, 14, 16, 16, 16, 16, 16, 16, 16...  \n",
       "47955  [16, 7, 16, 3, 16, 16, 16, 16, 16, 16, 16, 16,...  \n",
       "47956  [16, 2, 16, 16, 7, 15, 16, 16, 16, 16, 16, 16,...  \n",
       "47957  [16, 16, 16, 16, 16, 16, 16, 16, 16, 16, 16, 1...  \n",
       "47958  [16, 5, 13, 16, 16, 16, 16, 16, 16, 16, 16, 16...  \n",
       "\n",
       "[47959 rows x 2 columns]"
      ]
     },
     "execution_count": 9,
     "metadata": {},
     "output_type": "execute_result"
    }
   ],
   "source": [
    "grouped_by_sentence_df = df.groupby('Sentence #').agg({'Word': list, 'Tag': list}).reset_index(drop=True)\n",
    "grouped_by_sentence_df"
   ]
  },
  {
   "cell_type": "code",
   "execution_count": 10,
   "id": "77a86b73-0105-447b-9533-015615d1a759",
   "metadata": {},
   "outputs": [],
   "source": [
    "X_train, X_test, y_train, y_test = train_test_split(grouped_by_sentence_df.Word, grouped_by_sentence_df.Tag, test_size=0.2, random_state=42)"
   ]
  },
  {
   "cell_type": "code",
   "execution_count": 11,
   "id": "374c4ff3-1b35-42fe-b464-38918ac80bab",
   "metadata": {},
   "outputs": [
    {
     "data": {
      "text/plain": [
       "7707     [South, Korea, 's, government, Tuesday, also, ...\n",
       "26089    [When, the, Lion, found, that, he, could, not,...\n",
       "308      [The, cost, of, major, food, commodities, has,...\n",
       "24975    [Argentina, 's, Lionel, Messi, tied, the, matc...\n",
       "471      [In, addition, to, 65,000, regular, H1-B, visa...\n",
       "                               ...                        \n",
       "11284    [During, an, address, Wednesday, marking, the,...\n",
       "44732    [General, Abizaid, made, the, remarks, during,...\n",
       "38158    [Milosevic, had, been, on, trial, at, the, Uni...\n",
       "860      [Lieberman, introduced, the, bill, with, Repub...\n",
       "15795    [She, said, divulging, the, contents, of, the,...\n",
       "Name: Word, Length: 38367, dtype: object"
      ]
     },
     "execution_count": 11,
     "metadata": {},
     "output_type": "execute_result"
    }
   ],
   "source": [
    "X_train"
   ]
  },
  {
   "cell_type": "code",
   "execution_count": 12,
   "id": "c7aba5df-cc44-437a-9835-77a2586875da",
   "metadata": {},
   "outputs": [
    {
     "data": {
      "text/plain": [
       "7707     [2, 10, 16, 16, 7, 16, 16, 16, 16, 16, 16, 16,...\n",
       "26089    [16, 16, 16, 16, 16, 16, 16, 16, 16, 16, 16, 1...\n",
       "308      [16, 16, 16, 16, 16, 16, 16, 16, 16, 16, 7, 15...\n",
       "24975             [5, 16, 6, 14, 16, 16, 16, 7, 16, 7, 16]\n",
       "471      [16, 16, 16, 16, 16, 16, 16, 16, 16, 16, 16, 1...\n",
       "                               ...                        \n",
       "11284    [16, 16, 16, 7, 16, 16, 5, 16, 16, 2, 10, 16, ...\n",
       "44732    [5, 13, 16, 16, 16, 16, 16, 16, 16, 16, 16, 16...\n",
       "38158    [6, 16, 16, 16, 16, 16, 16, 5, 13, 16, 16, 16,...\n",
       "860        [6, 16, 16, 16, 16, 5, 13, 6, 5, 16, 6, 14, 16]\n",
       "15795    [16, 16, 16, 16, 16, 16, 16, 16, 16, 16, 16, 1...\n",
       "Name: Tag, Length: 38367, dtype: object"
      ]
     },
     "execution_count": 12,
     "metadata": {},
     "output_type": "execute_result"
    }
   ],
   "source": [
    "y_train"
   ]
  },
  {
   "cell_type": "code",
   "execution_count": 13,
   "id": "bc6e954e-66ef-453b-afed-7a4858ad8110",
   "metadata": {},
   "outputs": [],
   "source": [
    "tokenizer = BertTokenizer.from_pretrained('bert-base-uncased')"
   ]
  },
  {
   "cell_type": "code",
   "execution_count": 14,
   "id": "c32ac556-c9c7-4256-9f9e-5a9b1aad51f1",
   "metadata": {},
   "outputs": [
    {
     "data": {
      "text/plain": [
       "104"
      ]
     },
     "execution_count": 14,
     "metadata": {},
     "output_type": "execute_result"
    }
   ],
   "source": [
    "grouped_by_sentence_df.Word.apply(len).max()"
   ]
  },
  {
   "cell_type": "code",
   "execution_count": 15,
   "id": "d7590022-cb5f-493a-8c7f-3af01678a6ca",
   "metadata": {},
   "outputs": [],
   "source": [
    "MAX_LEN = 128"
   ]
  },
  {
   "cell_type": "code",
   "execution_count": 16,
   "id": "2fdbcafd-28e0-436e-9764-6e42beb88cfe",
   "metadata": {},
   "outputs": [],
   "source": [
    "def encode_words_tags(sentences, MAX_LEN):\n",
    "    input_ids = []\n",
    "    attention_masks = []\n",
    "    for sentence in sentences:\n",
    "        inputs = tokenizer.encode_plus(sentence, \n",
    "                                       return_attention_mask=True,\n",
    "                                       add_special_tokens=True, \n",
    "                                       max_length=MAX_LEN,\n",
    "                                       is_split_into_words=True,\n",
    "                                       padding='max_length', \n",
    "                                       truncation=True)\n",
    "        \n",
    "        input_ids.append(inputs['input_ids'])\n",
    "        attention_masks.append(inputs['attention_mask'])\n",
    "\n",
    "    return np.array(input_ids), np.array(attention_masks)"
   ]
  },
  {
   "cell_type": "code",
   "execution_count": 17,
   "id": "b1981267-b1a2-4e10-a0fc-df9aa3d04c99",
   "metadata": {},
   "outputs": [],
   "source": [
    "train_input_ids, train_attention_masks = encode_words_tags(X_train, MAX_LEN)"
   ]
  },
  {
   "cell_type": "code",
   "execution_count": 18,
   "id": "9dc9ee99-528c-414f-8d8f-a59937be253e",
   "metadata": {},
   "outputs": [],
   "source": [
    "test_input_ids, test_attention_masks = encode_words_tags(X_test, MAX_LEN)"
   ]
  },
  {
   "cell_type": "code",
   "execution_count": 19,
   "id": "5fb976f3-a3e9-4213-9d2e-e9621e73e545",
   "metadata": {},
   "outputs": [
    {
     "data": {
      "text/plain": [
       "128"
      ]
     },
     "execution_count": 19,
     "metadata": {},
     "output_type": "execute_result"
    }
   ],
   "source": [
    "len(train_input_ids[0])"
   ]
  },
  {
   "cell_type": "code",
   "execution_count": 20,
   "id": "c663a344-00c9-4e17-b1a6-9797328f79d3",
   "metadata": {},
   "outputs": [],
   "source": [
    "train_tags = np.array(y_train.apply(lambda x: x + [0] * (MAX_LEN - len(x))).tolist())\n",
    "test_tags = np.array(y_test.apply(lambda x: x + [0] * (MAX_LEN - len(x))).tolist())"
   ]
  },
  {
   "cell_type": "markdown",
   "id": "e22d0a7d-8d57-48ff-bfea-9994bedf6a74",
   "metadata": {},
   "source": [
    "# Определение модели"
   ]
  },
  {
   "cell_type": "code",
   "execution_count": 21,
   "id": "3ede5d24-e739-4319-9ad1-975675f18234",
   "metadata": {
    "scrolled": true
   },
   "outputs": [
    {
     "name": "stderr",
     "output_type": "stream",
     "text": [
      "Some weights of the PyTorch model were not used when initializing the TF 2.0 model TFBertModel: ['cls.predictions.transform.dense.weight', 'cls.predictions.transform.LayerNorm.weight', 'cls.seq_relationship.bias', 'cls.predictions.bias', 'cls.seq_relationship.weight', 'cls.predictions.transform.dense.bias', 'cls.predictions.transform.LayerNorm.bias']\n",
      "- This IS expected if you are initializing TFBertModel from a PyTorch model trained on another task or with another architecture (e.g. initializing a TFBertForSequenceClassification model from a BertForPreTraining model).\n",
      "- This IS NOT expected if you are initializing TFBertModel from a PyTorch model that you expect to be exactly identical (e.g. initializing a TFBertForSequenceClassification model from a BertForSequenceClassification model).\n",
      "All the weights of TFBertModel were initialized from the PyTorch model.\n",
      "If your task is similar to the task the model of the checkpoint was trained on, you can already use TFBertModel for predictions without further training.\n"
     ]
    }
   ],
   "source": [
    "bert_model = TFBertModel.from_pretrained('bert-base-uncased')"
   ]
  },
  {
   "cell_type": "code",
   "execution_count": 22,
   "id": "cd3856c3-4087-4dff-9d2d-fdf1a1a97baa",
   "metadata": {
    "scrolled": true
   },
   "outputs": [],
   "source": [
    "input_ids = Input(shape=(MAX_LEN,), dtype=tf.int32, name=\"input_ids\")\n",
    "attention_masks = Input(shape=(MAX_LEN,), dtype=tf.int32, name=\"attention_masks\")"
   ]
  },
  {
   "cell_type": "code",
   "execution_count": 23,
   "id": "92b64d3f-1917-4182-b3b6-2a0ed2011073",
   "metadata": {},
   "outputs": [
    {
     "data": {
      "text/plain": [
       "<KerasTensor: shape=(None, 128, 768) dtype=float32 (created by layer 'tf_bert_model')>"
      ]
     },
     "execution_count": 23,
     "metadata": {},
     "output_type": "execute_result"
    }
   ],
   "source": [
    "bert_output = bert_model(input_ids, attention_mask=attention_masks)[0]\n",
    "bert_output"
   ]
  },
  {
   "cell_type": "code",
   "execution_count": 24,
   "id": "81bcb386-4900-43c8-b459-e605880f93d6",
   "metadata": {},
   "outputs": [],
   "source": [
    "dropout = Dropout(0.2)(bert_output)"
   ]
  },
  {
   "cell_type": "code",
   "execution_count": 25,
   "id": "6e83e39e-3374-455d-94cb-b08e488557bc",
   "metadata": {},
   "outputs": [],
   "source": [
    "dense_layer = Dense(64, activation=\"selu\")(dropout)\n",
    "outputs = Dense(num_classes, activation=\"softmax\")(dense_layer)"
   ]
  },
  {
   "cell_type": "code",
   "execution_count": 26,
   "id": "5992db4b-02dd-44fc-9b65-c33120cc71f0",
   "metadata": {},
   "outputs": [],
   "source": [
    "model = Model(inputs=[input_ids, attention_masks], outputs=outputs)"
   ]
  },
  {
   "cell_type": "code",
   "execution_count": 27,
   "id": "a5927465-7b7d-4268-9d8b-148c7a63314e",
   "metadata": {},
   "outputs": [],
   "source": [
    "# Удаляются теги О и паддинг из y_true и соответствующие элменты из y_pred при помощи маски\n",
    "# считаем кол-во одникаовых элеметов в полученных матрицых и делим на всю длину одной матрицы\n",
    "def excluding_accuracy(y_true, y_pred):\n",
    "    mask = tf.logical_or(tf.equal(y_true, 0), tf.equal(y_true, O_tag))\n",
    "    excluded_y_true = tf.boolean_mask(y_true, ~mask)\n",
    "    excluded_y_pred = tf.boolean_mask(y_pred, ~mask)\n",
    "    \n",
    "    excluded_y_pred = tf.argmax(excluded_y_pred, axis=-1) # перевод вероятнойстей принадлежности к классу в классы\n",
    "    \n",
    "    excluded_y_true = tf.cast(excluded_y_true, tf.int32) # нужно для совместимости\n",
    "    excluded_y_pred = tf.cast(excluded_y_pred, tf.int32)\n",
    "\n",
    "    correct_predictions = tf.equal(excluded_y_true, excluded_y_pred)\n",
    "    accuracy = tf.reduce_sum(tf.cast(correct_predictions, tf.float32)) / tf.cast(tf.size(excluded_y_true), tf.float32)\n",
    "    return accuracy\n"
   ]
  },
  {
   "cell_type": "code",
   "execution_count": 28,
   "id": "0cba57a3-6404-4e46-984e-99a33bf33540",
   "metadata": {},
   "outputs": [],
   "source": [
    "model.compile(optimizer='adam', loss='sparse_categorical_crossentropy', metrics=['accuracy', excluding_accuracy])"
   ]
  },
  {
   "cell_type": "code",
   "execution_count": 29,
   "id": "7aeb0473-00df-4818-87bf-dffa0acbd569",
   "metadata": {},
   "outputs": [
    {
     "name": "stdout",
     "output_type": "stream",
     "text": [
      "Model: \"model\"\n",
      "__________________________________________________________________________________________________\n",
      " Layer (type)                Output Shape                 Param #   Connected to                  \n",
      "==================================================================================================\n",
      " input_ids (InputLayer)      [(None, 128)]                0         []                            \n",
      "                                                                                                  \n",
      " attention_masks (InputLaye  [(None, 128)]                0         []                            \n",
      " r)                                                                                               \n",
      "                                                                                                  \n",
      " tf_bert_model (TFBertModel  TFBaseModelOutputWithPooli   1094822   ['input_ids[0][0]',           \n",
      " )                           ngAndCrossAttentions(last_   40         'attention_masks[0][0]']     \n",
      "                             hidden_state=(None, 128, 7                                           \n",
      "                             68),                                                                 \n",
      "                              pooler_output=(None, 768)                                           \n",
      "                             , past_key_values=None, hi                                           \n",
      "                             dden_states=None, attentio                                           \n",
      "                             ns=None, cross_attentions=                                           \n",
      "                             None)                                                                \n",
      "                                                                                                  \n",
      " dropout_37 (Dropout)        (None, 128, 768)             0         ['tf_bert_model[0][0]']       \n",
      "                                                                                                  \n",
      " dense (Dense)               (None, 128, 64)              49216     ['dropout_37[0][0]']          \n",
      "                                                                                                  \n",
      " dense_1 (Dense)             (None, 128, 17)              1105      ['dense[0][0]']               \n",
      "                                                                                                  \n",
      "==================================================================================================\n",
      "Total params: 109532561 (417.83 MB)\n",
      "Trainable params: 109532561 (417.83 MB)\n",
      "Non-trainable params: 0 (0.00 Byte)\n",
      "__________________________________________________________________________________________________\n"
     ]
    }
   ],
   "source": [
    "model.summary()"
   ]
  },
  {
   "cell_type": "code",
   "execution_count": 30,
   "id": "5f99f508-466c-499b-8639-fc103e688e5f",
   "metadata": {},
   "outputs": [],
   "source": [
    "early_stopping = EarlyStopping(monitor='val_loss', patience=4)"
   ]
  },
  {
   "cell_type": "code",
   "execution_count": 31,
   "id": "f99d630e-f997-447c-9694-fa5489df6b88",
   "metadata": {},
   "outputs": [
    {
     "name": "stdout",
     "output_type": "stream",
     "text": [
      "Epoch 1/3\n",
      "WARNING:tensorflow:Gradients do not exist for variables ['tf_bert_model/bert/pooler/dense/kernel:0', 'tf_bert_model/bert/pooler/dense/bias:0'] when minimizing the loss. If you're using `model.compile()`, did you forget to provide a `loss` argument?\n",
      "WARNING:tensorflow:Gradients do not exist for variables ['tf_bert_model/bert/pooler/dense/kernel:0', 'tf_bert_model/bert/pooler/dense/bias:0'] when minimizing the loss. If you're using `model.compile()`, did you forget to provide a `loss` argument?\n",
      "WARNING:tensorflow:Gradients do not exist for variables ['tf_bert_model/bert/pooler/dense/kernel:0', 'tf_bert_model/bert/pooler/dense/bias:0'] when minimizing the loss. If you're using `model.compile()`, did you forget to provide a `loss` argument?\n",
      "WARNING:tensorflow:Gradients do not exist for variables ['tf_bert_model/bert/pooler/dense/kernel:0', 'tf_bert_model/bert/pooler/dense/bias:0'] when minimizing the loss. If you're using `model.compile()`, did you forget to provide a `loss` argument?\n",
      "   3/1199 [..............................] - ETA: 20:46:58 - loss: 4.8480 - accuracy: 0.3252 - excluding_accuracy: 0.0286"
     ]
    },
    {
     "name": "stderr",
     "output_type": "stream",
     "text": [
      "\n",
      "KeyboardInterrupt\n",
      "\n"
     ]
    }
   ],
   "source": [
    "model.fit([train_input_ids, train_attention_masks], train_tags, validation_data=([test_input_ids, test_attention_masks], test_tags), epochs=3, batch_size=32)"
   ]
  },
  {
   "cell_type": "markdown",
   "id": "1749649c-16a3-44ea-9b93-5ba2617f7cd0",
   "metadata": {},
   "source": [
    "Для анализа обучения, можно посмотреть на графики функции потерь по эпохам на тренировочном датасете, по нему можно увидеть сходимость модели к оптимальным параметрам, а также заметить если вдруг наступило переобучение (хотя его должен предотвратить early stopping и дропаут). График accuracy является не совсем информативным, из-за преобладания тегов \"О\", в данном случае нас больше будет интересовать, как выглядит график кастомной метрики excluding_accuracy, по нему можно определить растет ли точность модели.\n",
    "Эти жже графики необходимо исследовать и на валидационном наборе данных. Еще можно посмотреть на confusion matrix, там будет явно заметно, если модель путает какие-то теги между собой. На основе этого можно провети анализ ошибок конкретных тегов, например, модель может ошибаться в них из-за того, что у нее было мало примеров. "
   ]
  },
  {
   "cell_type": "code",
   "execution_count": null,
   "id": "613b9d4f-1d9c-4e43-aaae-abb45cb7bf3a",
   "metadata": {},
   "outputs": [],
   "source": []
  }
 ],
 "metadata": {
  "kernelspec": {
   "display_name": "Python 3 (ipykernel)",
   "language": "python",
   "name": "python3"
  },
  "language_info": {
   "codemirror_mode": {
    "name": "ipython",
    "version": 3
   },
   "file_extension": ".py",
   "mimetype": "text/x-python",
   "name": "python",
   "nbconvert_exporter": "python",
   "pygments_lexer": "ipython3",
   "version": "3.11.8"
  }
 },
 "nbformat": 4,
 "nbformat_minor": 5
}
